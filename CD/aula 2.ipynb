{
 "cells": [
  {
   "cell_type": "code",
   "execution_count": 106,
   "metadata": {},
   "outputs": [],
   "source": [
    "# Importa bibliotecas necessárias para manipulação de dados e criação de gráficos\n",
    "import numpy as np\n",
    "import pandas as pd\n",
    "import matplotlib.pyplot as plt\n",
    "import seaborn as sns"
   ]
  },
  {
   "cell_type": "code",
   "execution_count": 107,
   "metadata": {},
   "outputs": [
    {
     "data": {
      "text/html": [
       "<div>\n",
       "<style scoped>\n",
       "    .dataframe tbody tr th:only-of-type {\n",
       "        vertical-align: middle;\n",
       "    }\n",
       "\n",
       "    .dataframe tbody tr th {\n",
       "        vertical-align: top;\n",
       "    }\n",
       "\n",
       "    .dataframe thead th {\n",
       "        text-align: right;\n",
       "    }\n",
       "</style>\n",
       "<table border=\"1\" class=\"dataframe\">\n",
       "  <thead>\n",
       "    <tr style=\"text-align: right;\">\n",
       "      <th></th>\n",
       "      <th>id_da_compra</th>\n",
       "      <th>data</th>\n",
       "      <th>hora</th>\n",
       "      <th>cliente</th>\n",
       "      <th>produto</th>\n",
       "      <th>valor</th>\n",
       "      <th>quantidade</th>\n",
       "      <th>total</th>\n",
       "      <th>status</th>\n",
       "      <th>cidade</th>\n",
       "      <th>estado</th>\n",
       "      <th>pais</th>\n",
       "      <th>cep</th>\n",
       "      <th>frete</th>\n",
       "      <th>pagamento</th>\n",
       "      <th>vendedor</th>\n",
       "      <th>marca</th>\n",
       "    </tr>\n",
       "  </thead>\n",
       "  <tbody>\n",
       "    <tr>\n",
       "      <th>0</th>\n",
       "      <td>13679</td>\n",
       "      <td>2021-03-20</td>\n",
       "      <td>23:35:51</td>\n",
       "      <td>LUCAS Araujo Kuhn</td>\n",
       "      <td>Queijo Mussarela</td>\n",
       "      <td>R$ 16,87</td>\n",
       "      <td>13</td>\n",
       "      <td>239.31</td>\n",
       "      <td>Pagamento Confirmado</td>\n",
       "      <td>Niterói</td>\n",
       "      <td>RJ</td>\n",
       "      <td>Brasil</td>\n",
       "      <td>24000-000</td>\n",
       "      <td>20.0</td>\n",
       "      <td>Cartão de Crédito</td>\n",
       "      <td>SAMUEL HENRIQUE CAÇADOR</td>\n",
       "      <td>Porto Alegre</td>\n",
       "    </tr>\n",
       "    <tr>\n",
       "      <th>1</th>\n",
       "      <td>28070</td>\n",
       "      <td>2020-10-30</td>\n",
       "      <td>09:00:53</td>\n",
       "      <td>MICAEL SOUZA RONCETE</td>\n",
       "      <td>Molho de Tomate</td>\n",
       "      <td>R$ 3,25</td>\n",
       "      <td>3</td>\n",
       "      <td>9.75</td>\n",
       "      <td>Pagamento Confirmado</td>\n",
       "      <td>Mariana</td>\n",
       "      <td>MG</td>\n",
       "      <td>Brasil</td>\n",
       "      <td>35420-000</td>\n",
       "      <td>0.0</td>\n",
       "      <td>Pix</td>\n",
       "      <td>MICAEL MALAQUIAS DE SOUZA OLIVEIRA</td>\n",
       "      <td>Fugini</td>\n",
       "    </tr>\n",
       "    <tr>\n",
       "      <th>2</th>\n",
       "      <td>47484</td>\n",
       "      <td>2021-06-09</td>\n",
       "      <td>15:30:28</td>\n",
       "      <td>FELIPE AUGUSTO NERY SILVA</td>\n",
       "      <td>Água Mineral</td>\n",
       "      <td>R$ 1,63</td>\n",
       "      <td>9</td>\n",
       "      <td>36.67</td>\n",
       "      <td>Pagamento Confirmado</td>\n",
       "      <td>Cabo Frio</td>\n",
       "      <td>RJ</td>\n",
       "      <td>Brasil</td>\n",
       "      <td>28900-000</td>\n",
       "      <td>22.0</td>\n",
       "      <td>Transferência Bancária</td>\n",
       "      <td>HENRICO MATOS LIMA DA CUNHA</td>\n",
       "      <td>Minalba</td>\n",
       "    </tr>\n",
       "    <tr>\n",
       "      <th>3</th>\n",
       "      <td>20809</td>\n",
       "      <td>2022-06-04</td>\n",
       "      <td>08:41:23</td>\n",
       "      <td>LEVI RIBEIRO AMORIM</td>\n",
       "      <td>Carvão</td>\n",
       "      <td>R$ 8,74</td>\n",
       "      <td>4</td>\n",
       "      <td>54.96</td>\n",
       "      <td>Em Separação</td>\n",
       "      <td>Campos dos Goytacazes</td>\n",
       "      <td>RJ</td>\n",
       "      <td>Brasil</td>\n",
       "      <td>28000-000</td>\n",
       "      <td>20.0</td>\n",
       "      <td>Pix</td>\n",
       "      <td>GABRIEL QUEIROZ DE AGUIAR</td>\n",
       "      <td>Marca-Brás</td>\n",
       "    </tr>\n",
       "    <tr>\n",
       "      <th>4</th>\n",
       "      <td>47123</td>\n",
       "      <td>2019-05-04</td>\n",
       "      <td>13:38:45</td>\n",
       "      <td>GABRIEL MATOS LIMA DA CUNHA</td>\n",
       "      <td>Café</td>\n",
       "      <td>R$ 9,48</td>\n",
       "      <td>2</td>\n",
       "      <td>18.96</td>\n",
       "      <td>Em Separação</td>\n",
       "      <td>Conselheiro Lafaiete</td>\n",
       "      <td>MG</td>\n",
       "      <td>Brasil</td>\n",
       "      <td>36400-000</td>\n",
       "      <td>0.0</td>\n",
       "      <td>Cartão de Crédito</td>\n",
       "      <td>HENRICO MATOS LIMA DA CUNHA</td>\n",
       "      <td>3 Corações</td>\n",
       "    </tr>\n",
       "  </tbody>\n",
       "</table>\n",
       "</div>"
      ],
      "text/plain": [
       "   id_da_compra        data      hora                      cliente  \\\n",
       "0         13679  2021-03-20  23:35:51            LUCAS Araujo Kuhn   \n",
       "1         28070  2020-10-30  09:00:53         MICAEL SOUZA RONCETE   \n",
       "2         47484  2021-06-09  15:30:28    FELIPE AUGUSTO NERY SILVA   \n",
       "3         20809  2022-06-04  08:41:23        LEVI RIBEIRO AMORIM     \n",
       "4         47123  2019-05-04  13:38:45  GABRIEL MATOS LIMA DA CUNHA   \n",
       "\n",
       "            produto     valor  quantidade   total                status  \\\n",
       "0  Queijo Mussarela  R$ 16,87          13  239.31  Pagamento Confirmado   \n",
       "1   Molho de Tomate   R$ 3,25           3    9.75  Pagamento Confirmado   \n",
       "2      Água Mineral   R$ 1,63           9   36.67  Pagamento Confirmado   \n",
       "3            Carvão   R$ 8,74           4   54.96          Em Separação   \n",
       "4              Café   R$ 9,48           2   18.96          Em Separação   \n",
       "\n",
       "                  cidade estado    pais        cep  frete  \\\n",
       "0                Niterói     RJ  Brasil  24000-000   20.0   \n",
       "1                Mariana     MG  Brasil  35420-000    0.0   \n",
       "2              Cabo Frio     RJ  Brasil  28900-000   22.0   \n",
       "3  Campos dos Goytacazes     RJ  Brasil  28000-000   20.0   \n",
       "4   Conselheiro Lafaiete     MG  Brasil  36400-000    0.0   \n",
       "\n",
       "                pagamento                            vendedor         marca  \n",
       "0       Cartão de Crédito             SAMUEL HENRIQUE CAÇADOR  Porto Alegre  \n",
       "1                     Pix  MICAEL MALAQUIAS DE SOUZA OLIVEIRA        Fugini  \n",
       "2  Transferência Bancária         HENRICO MATOS LIMA DA CUNHA       Minalba  \n",
       "3                     Pix           GABRIEL QUEIROZ DE AGUIAR    Marca-Brás  \n",
       "4       Cartão de Crédito         HENRICO MATOS LIMA DA CUNHA    3 Corações  "
      ]
     },
     "execution_count": 107,
     "metadata": {},
     "output_type": "execute_result"
    }
   ],
   "source": [
    "df = pd.read_csv('vendas_modificado.csv')\n",
    "df.head()   "
   ]
  },
  {
   "cell_type": "code",
   "execution_count": 108,
   "metadata": {},
   "outputs": [],
   "source": [
    "df_ordenado = df.sort_values(by=\"id_da_compra\")"
   ]
  },
  {
   "cell_type": "code",
   "execution_count": 109,
   "metadata": {},
   "outputs": [
    {
     "data": {
      "text/html": [
       "<div>\n",
       "<style scoped>\n",
       "    .dataframe tbody tr th:only-of-type {\n",
       "        vertical-align: middle;\n",
       "    }\n",
       "\n",
       "    .dataframe tbody tr th {\n",
       "        vertical-align: top;\n",
       "    }\n",
       "\n",
       "    .dataframe thead th {\n",
       "        text-align: right;\n",
       "    }\n",
       "</style>\n",
       "<table border=\"1\" class=\"dataframe\">\n",
       "  <thead>\n",
       "    <tr style=\"text-align: right;\">\n",
       "      <th></th>\n",
       "      <th>id_da_compra</th>\n",
       "      <th>data</th>\n",
       "      <th>hora</th>\n",
       "      <th>cliente</th>\n",
       "      <th>produto</th>\n",
       "      <th>valor</th>\n",
       "      <th>quantidade</th>\n",
       "      <th>total</th>\n",
       "      <th>status</th>\n",
       "      <th>cidade</th>\n",
       "      <th>estado</th>\n",
       "      <th>pais</th>\n",
       "      <th>cep</th>\n",
       "      <th>frete</th>\n",
       "      <th>pagamento</th>\n",
       "      <th>vendedor</th>\n",
       "      <th>marca</th>\n",
       "    </tr>\n",
       "  </thead>\n",
       "  <tbody>\n",
       "    <tr>\n",
       "      <th>4853</th>\n",
       "      <td>0</td>\n",
       "      <td>2019-07-07</td>\n",
       "      <td>11:05:44</td>\n",
       "      <td>PEDRO SILVA RAMOS</td>\n",
       "      <td>Macarrão</td>\n",
       "      <td>R$ 2,63</td>\n",
       "      <td>14</td>\n",
       "      <td>46.82</td>\n",
       "      <td>Aguardando Pagamento</td>\n",
       "      <td>Ouro Branco</td>\n",
       "      <td>MG</td>\n",
       "      <td>Brasil</td>\n",
       "      <td>3642XXXX</td>\n",
       "      <td>10.0</td>\n",
       "      <td>Cartão de Crédito</td>\n",
       "      <td>VICTOR GONÇALVES DONADONI</td>\n",
       "      <td>Renata</td>\n",
       "    </tr>\n",
       "    <tr>\n",
       "      <th>143431</th>\n",
       "      <td>0</td>\n",
       "      <td>2019-07-07</td>\n",
       "      <td>11:05:44</td>\n",
       "      <td>PEDRO SILVA RAMOS</td>\n",
       "      <td>Sabonete</td>\n",
       "      <td>R$ 2,4</td>\n",
       "      <td>15</td>\n",
       "      <td>46.00</td>\n",
       "      <td>Aguardando Pagamento</td>\n",
       "      <td>Ouro Branco</td>\n",
       "      <td>MG</td>\n",
       "      <td>Brasil</td>\n",
       "      <td>36420-000</td>\n",
       "      <td>10.0</td>\n",
       "      <td>Cartão de Crédito</td>\n",
       "      <td>VICTOR GONÇALVES DONADONI</td>\n",
       "      <td>Nivea</td>\n",
       "    </tr>\n",
       "    <tr>\n",
       "      <th>364791</th>\n",
       "      <td>0</td>\n",
       "      <td>2019-07-07</td>\n",
       "      <td>11:05:44</td>\n",
       "      <td>PEDRO SILVA RAMOS</td>\n",
       "      <td>Pasta de Dente</td>\n",
       "      <td>R$ 2,98</td>\n",
       "      <td>9</td>\n",
       "      <td>36.82</td>\n",
       "      <td>Aguardando Pagamento</td>\n",
       "      <td>Ouro Branco</td>\n",
       "      <td>MG</td>\n",
       "      <td>Brasil</td>\n",
       "      <td>36420-000</td>\n",
       "      <td>10.0</td>\n",
       "      <td>Cartão de Crédito</td>\n",
       "      <td>VICTOR GONÇALVES DONADONI</td>\n",
       "      <td>Colgate</td>\n",
       "    </tr>\n",
       "  </tbody>\n",
       "</table>\n",
       "</div>"
      ],
      "text/plain": [
       "        id_da_compra        data      hora            cliente         produto  \\\n",
       "4853               0  2019-07-07  11:05:44  PEDRO SILVA RAMOS        Macarrão   \n",
       "143431             0  2019-07-07  11:05:44  PEDRO SILVA RAMOS        Sabonete   \n",
       "364791             0  2019-07-07  11:05:44  PEDRO SILVA RAMOS  Pasta de Dente   \n",
       "\n",
       "          valor  quantidade  total                status       cidade estado  \\\n",
       "4853    R$ 2,63          14  46.82  Aguardando Pagamento  Ouro Branco     MG   \n",
       "143431   R$ 2,4          15  46.00  Aguardando Pagamento  Ouro Branco     MG   \n",
       "364791  R$ 2,98           9  36.82  Aguardando Pagamento  Ouro Branco     MG   \n",
       "\n",
       "          pais        cep  frete          pagamento  \\\n",
       "4853    Brasil   3642XXXX   10.0  Cartão de Crédito   \n",
       "143431  Brasil  36420-000   10.0  Cartão de Crédito   \n",
       "364791  Brasil  36420-000   10.0  Cartão de Crédito   \n",
       "\n",
       "                         vendedor    marca  \n",
       "4853    VICTOR GONÇALVES DONADONI   Renata  \n",
       "143431  VICTOR GONÇALVES DONADONI    Nivea  \n",
       "364791  VICTOR GONÇALVES DONADONI  Colgate  "
      ]
     },
     "metadata": {},
     "output_type": "display_data"
    }
   ],
   "source": [
    "display(df_ordenado.head(3))"
   ]
  },
  {
   "cell_type": "code",
   "execution_count": 110,
   "metadata": {},
   "outputs": [
    {
     "data": {
      "text/plain": [
       "np.int64(0)"
      ]
     },
     "metadata": {},
     "output_type": "display_data"
    },
    {
     "data": {
      "text/plain": [
       "np.int64(83)"
      ]
     },
     "metadata": {},
     "output_type": "display_data"
    }
   ],
   "source": [
    "# Exibe a contagem de valores nulos antes da conversão\n",
    "display(df['valor'].isnull().sum())\n",
    "\n",
    "# Remove o símbolo \"R$\", espaços extras e substitui vírgula por ponto\n",
    "df[\"valor\"] = df[\"valor\"].astype(str).str.replace(\"R$\", \"\", regex=True).str.strip()\n",
    "df[\"valor\"] = df[\"valor\"].str.replace(\",\", \".\", regex=True)  \n",
    "\n",
    "# Remove qualquer caractere que não seja número ou ponto decimal\n",
    "df[\"valor\"] = df[\"valor\"].str.replace(r\"[^\\d.]\", \"\", regex=True)  \n",
    "\n",
    "# Converte a coluna para numérico (float), substituindo erros por NaN\n",
    "df[\"valor\"] = pd.to_numeric(df[\"valor\"], errors=\"coerce\")  \n",
    "\n",
    "# Exibe a contagem de valores nulos após a conversão\n",
    "display(df['valor'].isnull().sum())\n"
   ]
  },
  {
   "cell_type": "code",
   "execution_count": 111,
   "metadata": {},
   "outputs": [
    {
     "data": {
      "text/html": [
       "<div>\n",
       "<style scoped>\n",
       "    .dataframe tbody tr th:only-of-type {\n",
       "        vertical-align: middle;\n",
       "    }\n",
       "\n",
       "    .dataframe tbody tr th {\n",
       "        vertical-align: top;\n",
       "    }\n",
       "\n",
       "    .dataframe thead th {\n",
       "        text-align: right;\n",
       "    }\n",
       "</style>\n",
       "<table border=\"1\" class=\"dataframe\">\n",
       "  <thead>\n",
       "    <tr style=\"text-align: right;\">\n",
       "      <th></th>\n",
       "      <th>id_da_compra</th>\n",
       "      <th>data</th>\n",
       "      <th>hora</th>\n",
       "      <th>cliente</th>\n",
       "      <th>produto</th>\n",
       "      <th>valor</th>\n",
       "      <th>quantidade</th>\n",
       "      <th>total</th>\n",
       "      <th>status</th>\n",
       "      <th>cidade</th>\n",
       "      <th>estado</th>\n",
       "      <th>pais</th>\n",
       "      <th>cep</th>\n",
       "      <th>frete</th>\n",
       "      <th>pagamento</th>\n",
       "      <th>vendedor</th>\n",
       "      <th>marca</th>\n",
       "    </tr>\n",
       "  </thead>\n",
       "  <tbody>\n",
       "    <tr>\n",
       "      <th>0</th>\n",
       "      <td>13679</td>\n",
       "      <td>2021-03-20</td>\n",
       "      <td>23:35:51</td>\n",
       "      <td>LUCAS Araujo Kuhn</td>\n",
       "      <td>Queijo Mussarela</td>\n",
       "      <td>16.87</td>\n",
       "      <td>13</td>\n",
       "      <td>239.31</td>\n",
       "      <td>Pagamento Confirmado</td>\n",
       "      <td>Niterói</td>\n",
       "      <td>RJ</td>\n",
       "      <td>Brasil</td>\n",
       "      <td>24000-000</td>\n",
       "      <td>20.0</td>\n",
       "      <td>Cartão de Crédito</td>\n",
       "      <td>SAMUEL HENRIQUE CAÇADOR</td>\n",
       "      <td>Porto Alegre</td>\n",
       "    </tr>\n",
       "    <tr>\n",
       "      <th>1</th>\n",
       "      <td>28070</td>\n",
       "      <td>2020-10-30</td>\n",
       "      <td>09:00:53</td>\n",
       "      <td>MICAEL SOUZA RONCETE</td>\n",
       "      <td>Molho de Tomate</td>\n",
       "      <td>3.25</td>\n",
       "      <td>3</td>\n",
       "      <td>9.75</td>\n",
       "      <td>Pagamento Confirmado</td>\n",
       "      <td>Mariana</td>\n",
       "      <td>MG</td>\n",
       "      <td>Brasil</td>\n",
       "      <td>35420-000</td>\n",
       "      <td>0.0</td>\n",
       "      <td>Pix</td>\n",
       "      <td>MICAEL MALAQUIAS DE SOUZA OLIVEIRA</td>\n",
       "      <td>Fugini</td>\n",
       "    </tr>\n",
       "    <tr>\n",
       "      <th>2</th>\n",
       "      <td>47484</td>\n",
       "      <td>2021-06-09</td>\n",
       "      <td>15:30:28</td>\n",
       "      <td>FELIPE AUGUSTO NERY SILVA</td>\n",
       "      <td>Água Mineral</td>\n",
       "      <td>1.63</td>\n",
       "      <td>9</td>\n",
       "      <td>36.67</td>\n",
       "      <td>Pagamento Confirmado</td>\n",
       "      <td>Cabo Frio</td>\n",
       "      <td>RJ</td>\n",
       "      <td>Brasil</td>\n",
       "      <td>28900-000</td>\n",
       "      <td>22.0</td>\n",
       "      <td>Transferência Bancária</td>\n",
       "      <td>HENRICO MATOS LIMA DA CUNHA</td>\n",
       "      <td>Minalba</td>\n",
       "    </tr>\n",
       "    <tr>\n",
       "      <th>3</th>\n",
       "      <td>20809</td>\n",
       "      <td>2022-06-04</td>\n",
       "      <td>08:41:23</td>\n",
       "      <td>LEVI RIBEIRO AMORIM</td>\n",
       "      <td>Carvão</td>\n",
       "      <td>8.74</td>\n",
       "      <td>4</td>\n",
       "      <td>54.96</td>\n",
       "      <td>Em Separação</td>\n",
       "      <td>Campos dos Goytacazes</td>\n",
       "      <td>RJ</td>\n",
       "      <td>Brasil</td>\n",
       "      <td>28000-000</td>\n",
       "      <td>20.0</td>\n",
       "      <td>Pix</td>\n",
       "      <td>GABRIEL QUEIROZ DE AGUIAR</td>\n",
       "      <td>Marca-Brás</td>\n",
       "    </tr>\n",
       "    <tr>\n",
       "      <th>4</th>\n",
       "      <td>47123</td>\n",
       "      <td>2019-05-04</td>\n",
       "      <td>13:38:45</td>\n",
       "      <td>GABRIEL MATOS LIMA DA CUNHA</td>\n",
       "      <td>Café</td>\n",
       "      <td>9.48</td>\n",
       "      <td>2</td>\n",
       "      <td>18.96</td>\n",
       "      <td>Em Separação</td>\n",
       "      <td>Conselheiro Lafaiete</td>\n",
       "      <td>MG</td>\n",
       "      <td>Brasil</td>\n",
       "      <td>36400-000</td>\n",
       "      <td>0.0</td>\n",
       "      <td>Cartão de Crédito</td>\n",
       "      <td>HENRICO MATOS LIMA DA CUNHA</td>\n",
       "      <td>3 Corações</td>\n",
       "    </tr>\n",
       "  </tbody>\n",
       "</table>\n",
       "</div>"
      ],
      "text/plain": [
       "   id_da_compra        data      hora                      cliente  \\\n",
       "0         13679  2021-03-20  23:35:51            LUCAS Araujo Kuhn   \n",
       "1         28070  2020-10-30  09:00:53         MICAEL SOUZA RONCETE   \n",
       "2         47484  2021-06-09  15:30:28    FELIPE AUGUSTO NERY SILVA   \n",
       "3         20809  2022-06-04  08:41:23        LEVI RIBEIRO AMORIM     \n",
       "4         47123  2019-05-04  13:38:45  GABRIEL MATOS LIMA DA CUNHA   \n",
       "\n",
       "            produto  valor  quantidade   total                status  \\\n",
       "0  Queijo Mussarela  16.87          13  239.31  Pagamento Confirmado   \n",
       "1   Molho de Tomate   3.25           3    9.75  Pagamento Confirmado   \n",
       "2      Água Mineral   1.63           9   36.67  Pagamento Confirmado   \n",
       "3            Carvão   8.74           4   54.96          Em Separação   \n",
       "4              Café   9.48           2   18.96          Em Separação   \n",
       "\n",
       "                  cidade estado    pais        cep  frete  \\\n",
       "0                Niterói     RJ  Brasil  24000-000   20.0   \n",
       "1                Mariana     MG  Brasil  35420-000    0.0   \n",
       "2              Cabo Frio     RJ  Brasil  28900-000   22.0   \n",
       "3  Campos dos Goytacazes     RJ  Brasil  28000-000   20.0   \n",
       "4   Conselheiro Lafaiete     MG  Brasil  36400-000    0.0   \n",
       "\n",
       "                pagamento                            vendedor         marca  \n",
       "0       Cartão de Crédito             SAMUEL HENRIQUE CAÇADOR  Porto Alegre  \n",
       "1                     Pix  MICAEL MALAQUIAS DE SOUZA OLIVEIRA        Fugini  \n",
       "2  Transferência Bancária         HENRICO MATOS LIMA DA CUNHA       Minalba  \n",
       "3                     Pix           GABRIEL QUEIROZ DE AGUIAR    Marca-Brás  \n",
       "4       Cartão de Crédito         HENRICO MATOS LIMA DA CUNHA    3 Corações  "
      ]
     },
     "metadata": {},
     "output_type": "display_data"
    }
   ],
   "source": [
    "display(df.head(5))"
   ]
  },
  {
   "cell_type": "code",
   "execution_count": 112,
   "metadata": {},
   "outputs": [],
   "source": [
    "df[\"produto\"] = df[\"produto\"].str.replace(r\"[^a-zA-ZÀ-ÖØ-öø-ÿ\\s]\", \"\", regex=True).str.strip()\n"
   ]
  },
  {
   "cell_type": "code",
   "execution_count": 113,
   "metadata": {},
   "outputs": [
    {
     "data": {
      "text/plain": [
       "array(['Queijo Mussarela', 'Molho de Tomate', 'Água Mineral', 'Carvão',\n",
       "       'Café', 'Feijão', 'Condicionador', 'Sabonete', 'Açúcar',\n",
       "       'Manteiga', 'Papel Higiênico', 'Óleo de Soja', 'Vinho', 'Macarrão',\n",
       "       'Shampoo', 'Presunto', 'Cerveja', 'Papel Toalha', 'Pasta de Dente',\n",
       "       'Pão de Forma', 'Sabão em Pó', 'Amaciante', 'Desinfetante',\n",
       "       'Refrigerante', 'Arroz', 'Farinha de Trigo', 'Biscoito Recheado',\n",
       "       'Sal', 'Suco de Laranja', 'Leite Integral', 'Detergente',\n",
       "       'Refrigkrante', 'Scl', 'Papel qoalha', 'Desinfetanue',\n",
       "       'Qbeijo Mussarela', 'Água Mineras', 'Presuntd', 'Macawrão',\n",
       "       'Sucoyde Laranja', 'Clfé', 'Desinfekante', 'Majarrão', 'Cnfé',\n",
       "       'Farinha de Tripo', 'Manteigt', 'zabonete', 'Mqcarrão', 'Arroc',\n",
       "       'tal', 'Sabonepe', 'Papel Twalha', 'Água Mineual', 'Condicioiador',\n",
       "       'Condibionador', 'Caft', 'ieijão', 'Açúcaz', 'Amaciayte', 'Caff',\n",
       "       'Mopho de Tomate', 'Molmo de Tomate', 'Biscoitq Recheado',\n",
       "       'Macirrão', 'Deqergente', 'Cafc', 'Queijo Mussarelz', 'Deterwente'],\n",
       "      dtype=object)"
      ]
     },
     "execution_count": 113,
     "metadata": {},
     "output_type": "execute_result"
    }
   ],
   "source": [
    "\n",
    "df['produto'].unique()"
   ]
  },
  {
   "cell_type": "code",
   "execution_count": 114,
   "metadata": {},
   "outputs": [],
   "source": [
    "mapeamento_produtos = {\n",
    "    \"Refrigkrante\": \"Refrigerante\",\n",
    "    \"Scl\": \"Sal\",\n",
    "    \"Papel qoalha\": \"Papel Toalha\",\n",
    "    \"Desinfetanue\": \"Desinfetante\",\n",
    "    \"Qbeijo Mussarela\": \"Queijo Mussarela\",\n",
    "    \"Água Mineras\": \"Água Mineral\",\n",
    "    \"Presuntd\": \"Presunto\",\n",
    "    \"Macawrão\": \"Macarrão\",\n",
    "    \"Sucoyde Laranja\": \"Suco de Laranja\",\n",
    "    \"Clfé\": \"Café\",\n",
    "    \"Desinfekante\": \"Desinfetante\",\n",
    "    \"Majarrão\": \"Macarrão\",\n",
    "    \"Cnfé\": \"Café\",\n",
    "    \"Farinha de Tripo\": \"Farinha de Trigo\",\n",
    "    \"Manteigt\": \"Manteiga\",\n",
    "    \"zabonete\": \"Sabonete\",\n",
    "    \"Mqcarrão\": \"Macarrão\",\n",
    "    \"Arroc\": \"Arroz\",\n",
    "    \"tal\": \"Sal\",\n",
    "    \"Sabonepe\": \"Sabonete\",\n",
    "    \"Papel Twalha\": \"Papel Toalha\",\n",
    "    \"Água Mineual\": \"Água Mineral\",\n",
    "    \"Condicioiador\": \"Condicionador\",\n",
    "    \"Condibionador\": \"Condicionador\",\n",
    "    \"Caft\": \"Café\",\n",
    "    \"ieijão\": \"Feijão\",\n",
    "    \"Açúcaz\": \"Açúcar\",\n",
    "    \"Amaciayte\": \"Amaciante\",\n",
    "    \"Caff\": \"Café\",\n",
    "    \"Mopho de Tomate\": \"Molho de Tomate\",\n",
    "    \"Molmo de Tomate\": \"Molho de Tomate\",\n",
    "    \"Biscoitq Recheado\": \"Biscoito Recheado\",\n",
    "    \"Macirrão\": \"Macarrão\",\n",
    "    \"Deqergente\": \"Detergente\",\n",
    "    \"Cafc\": \"Café\",\n",
    "    \"Queijo Mussarelz\": \"Queijo Mussarela\",\n",
    "    \"Deterwente\": \"Detergente\"\n",
    "}\n",
    "\n",
    "# Aplicando o mapeamento ao DataFrame\n",
    "df[\"produto\"] = df[\"produto\"].replace(mapeamento_produtos)\n"
   ]
  },
  {
   "cell_type": "code",
   "execution_count": 115,
   "metadata": {},
   "outputs": [
    {
     "data": {
      "text/plain": [
       "array(['Queijo Mussarela', 'Molho de Tomate', 'Água Mineral', 'Carvão',\n",
       "       'Café', 'Feijão', 'Condicionador', 'Sabonete', 'Açúcar',\n",
       "       'Manteiga', 'Papel Higiênico', 'Óleo de Soja', 'Vinho', 'Macarrão',\n",
       "       'Shampoo', 'Presunto', 'Cerveja', 'Papel Toalha', 'Pasta de Dente',\n",
       "       'Pão de Forma', 'Sabão em Pó', 'Amaciante', 'Desinfetante',\n",
       "       'Refrigerante', 'Arroz', 'Farinha de Trigo', 'Biscoito Recheado',\n",
       "       'Sal', 'Suco de Laranja', 'Leite Integral', 'Detergente'],\n",
       "      dtype=object)"
      ]
     },
     "execution_count": 115,
     "metadata": {},
     "output_type": "execute_result"
    }
   ],
   "source": [
    "#display(df.head(50))\n",
    "df['produto'].unique()"
   ]
  },
  {
   "cell_type": "code",
   "execution_count": 116,
   "metadata": {},
   "outputs": [],
   "source": [
    "# Converter a coluna de data pra garantir que não terá valores inválidos de uma data\n",
    "df['data'] = pd.to_datetime(df['data'], format='%Y-%m-%d', errors='coerce')"
   ]
  },
  {
   "cell_type": "code",
   "execution_count": 117,
   "metadata": {},
   "outputs": [
    {
     "name": "stdout",
     "output_type": "stream",
     "text": [
      "Todos os valores na coluna de hora estão no formato correto.\n"
     ]
    }
   ],
   "source": [
    "# Identificar valores inválidos\n",
    "valores_invalidos_hora = df[df['hora'].isna()]\n",
    "\n",
    "if not valores_invalidos_hora.empty:\n",
    "    print(\"Valores inválidos encontrados na coluna de hora:\")\n",
    "    print(valores_invalidos_hora['hora'])\n",
    "else:\n",
    "    print(\"Todos os valores na coluna de hora estão no formato correto.\")"
   ]
  },
  {
   "cell_type": "code",
   "execution_count": 118,
   "metadata": {},
   "outputs": [],
   "source": [
    "# Converter a coluna de hora\n",
    "df['hora'] = pd.to_datetime(df['hora'], format='%H:%M:%S', errors='coerce')"
   ]
  },
  {
   "cell_type": "code",
   "execution_count": 119,
   "metadata": {},
   "outputs": [],
   "source": [
    "#padronizando os nomes nas colunas\n",
    "df['status'] = df['status'].str.lower().str.strip()\n",
    "df['pagamento'] = df['pagamento'].str.lower().str.strip()\n",
    "df['marca'] = df['marca'].str.title().str.strip()  # Primeira letra maiúscula"
   ]
  },
  {
   "cell_type": "code",
   "execution_count": 120,
   "metadata": {},
   "outputs": [
    {
     "data": {
      "text/plain": [
       "array(['pagamento confirmado', 'em separação', 'entregue com sucesso',\n",
       "       'aguardando pagamento', 'em transporte', 'ap', 'entregue', 'pc',\n",
       "       'sep', 'separando', 'pgto confirmado', 'transp', 'transportando',\n",
       "       'entg', 'aguardando pgto'], dtype=object)"
      ]
     },
     "execution_count": 120,
     "metadata": {},
     "output_type": "execute_result"
    }
   ],
   "source": [
    "#display(df.head(50))\n",
    "df['status'].unique()"
   ]
  },
  {
   "cell_type": "code",
   "execution_count": 121,
   "metadata": {},
   "outputs": [],
   "source": [
    "mapeamento_status = {\n",
    "    \"pagamento confirmado\": \"Pagamento Confirmado\",\n",
    "    \"em separação\": \"Em Separação\",\n",
    "    \"entregue com sucesso\": \"Entregue\",\n",
    "    \"aguardando pagamento\": \"Aguardando Pagamento\",\n",
    "    \"em transporte\": \"Em Transporte\",\n",
    "    \"ap\": \"Aguardando Pagamento\",\n",
    "    \"entregue\": \"Entregue\",\n",
    "    \"pc\": \"Pagamento Confirmado\",\n",
    "    \"sep\": \"Em Separação\",\n",
    "    \"separando\": \"Em Separação\",\n",
    "    \"pgto confirmado\": \"Pagamento Confirmado\",\n",
    "    \"transp\": \"Em Transporte\",\n",
    "    \"transportando\": \"Em Transporte\",\n",
    "    \"entg\": \"Entregue\",\n",
    "    \"aguardando pgto\": \"Aguardando Pagamento\"\n",
    "}\n",
    "\n",
    "# Aplicando o mapeamento ao DataFrame\n",
    "df[\"status\"] = df[\"status\"].replace(mapeamento_status)\n"
   ]
  },
  {
   "cell_type": "code",
   "execution_count": 122,
   "metadata": {},
   "outputs": [
    {
     "data": {
      "text/plain": [
       "array(['Pagamento Confirmado', 'Em Separação', 'Entregue',\n",
       "       'Aguardando Pagamento', 'Em Transporte'], dtype=object)"
      ]
     },
     "execution_count": 122,
     "metadata": {},
     "output_type": "execute_result"
    }
   ],
   "source": [
    "df['status'].unique()"
   ]
  },
  {
   "cell_type": "code",
   "execution_count": 123,
   "metadata": {},
   "outputs": [
    {
     "data": {
      "text/plain": [
       "array(['cartão de crédito', 'pix', 'transferência bancária', 'boleto',\n",
       "       'pix à vista', 'cartão crédito à vista', 'pagamento instantâneo',\n",
       "       'cartão crédito', 'boleto à vista', 'doc', 'ted',\n",
       "       'boleto no dinheiro'], dtype=object)"
      ]
     },
     "execution_count": 123,
     "metadata": {},
     "output_type": "execute_result"
    }
   ],
   "source": [
    "df['pagamento'].unique()"
   ]
  },
  {
   "cell_type": "code",
   "execution_count": 124,
   "metadata": {},
   "outputs": [
    {
     "data": {
      "text/plain": [
       "array(['Cartão de Crédito', 'Pix', 'Transferência Bancária', 'Boleto'],\n",
       "      dtype=object)"
      ]
     },
     "execution_count": 124,
     "metadata": {},
     "output_type": "execute_result"
    }
   ],
   "source": [
    "mapeamento_pagamento = {\n",
    "    \"cartão de crédito\": \"Cartão de Crédito\",\n",
    "    \"pix\": \"Pix\",\n",
    "    \"transferência bancária\": \"Transferência Bancária\",\n",
    "    \"boleto\": \"Boleto\",\n",
    "    \"pix à vista\": \"Pix\",\n",
    "    \"cartão crédito à vista\": \"Cartão de Crédito\",\n",
    "    \"pagamento instantâneo\": \"Pix\",\n",
    "    \"cartão crédito\": \"Cartão de Crédito\",\n",
    "    \"boleto à vista\": \"Boleto\",\n",
    "    \"doc\": \"Transferência Bancária\",\n",
    "    \"ted\": \"Transferência Bancária\",\n",
    "    \"boleto no dinheiro\": \"Boleto\"\n",
    "}\n",
    "\n",
    "# Aplicando o mapeamento ao DataFrame\n",
    "df[\"pagamento\"] = df[\"pagamento\"].replace(mapeamento_pagamento)\n",
    "\n",
    "df['pagamento'].unique()\n"
   ]
  },
  {
   "cell_type": "code",
   "execution_count": 125,
   "metadata": {},
   "outputs": [],
   "source": [
    "#nova coluna com o nome de total do produto, quantidade x valor\n",
    "#nova coluna com o total da compra. todos os produtos somados mais o valor do frete\n",
    "# se o nome do produto + marca + id da compra for igual = duplicata"
   ]
  },
  {
   "cell_type": "code",
   "execution_count": 126,
   "metadata": {},
   "outputs": [
    {
     "data": {
      "text/plain": [
       "array(['SAMUEL HENRIQUE CAÇADOR', 'MICAEL MALAQUIAS DE SOUZA OLIVEIRA',\n",
       "       'HENRICO MATOS LIMA DA CUNHA', 'GABRIEL QUEIROZ DE AGUIAR',\n",
       "       'VICTOR GONÇALVES DONADONI',\n",
       "       'FELIPE HENRIQUE COSTA BARNABE MARAZO', 'HENRICO VICTOR ALVES',\n",
       "       'CARLOS QUEIROZ DE AGUIAR', 'LUCAS VITOR FAÇANHA NEVES',\n",
       "       'PAULO SOUZA RONCETE', nan], dtype=object)"
      ]
     },
     "execution_count": 126,
     "metadata": {},
     "output_type": "execute_result"
    }
   ],
   "source": [
    "df['vendedor'].unique()"
   ]
  },
  {
   "cell_type": "code",
   "execution_count": 127,
   "metadata": {},
   "outputs": [],
   "source": [
    "# Contar a quantidade de vezes que cada produto aparece na coluna\n",
    "#contagem_produtos = df.groupby('produto').size().reset_index(name='contagem')  # Substitua 'produto' pelo nome da sua coluna\n",
    "\n",
    "# Ajustar as configurações de exibição do Pandas\n",
    "#pd.set_option('display.max_rows', None)  # Exibir todas as linhas\n",
    "#pd.set_option('display.max_columns', None)  # Exibir todas as colunas\n",
    "\n",
    "# Exibir a contagem de cada produto\n",
    "##print(contagem_produtos)"
   ]
  },
  {
   "cell_type": "code",
   "execution_count": 128,
   "metadata": {},
   "outputs": [],
   "source": [
    "#código  pra salvar os dados em um novo arquivo\n",
    "\n",
    "#df.to_csv(r\"C:\\Users\\micae\\OneDrive\\Desktop\\Faculdade\\CD\\vendas_limpo.csv\", index=False, encoding=\"utf-8\")\n",
    "#print(\"Arquivo limpo salvo com sucesso!\")\n",
    "#C:\\Users\\micae\\OneDrive\\Desktop\\Faculdade\\CD\\"
   ]
  },
  {
   "cell_type": "code",
   "execution_count": 129,
   "metadata": {},
   "outputs": [
    {
     "data": {
      "text/plain": [
       "array(['24000-000', '35420-000', '28900-000', '28000-000', '36400-000',\n",
       "       '36340-000', '01000-000', '36600-000', '36300-000', '24400-000',\n",
       "       '09700-000', '25000-000', '27900-000', '36570-000', '36000-000',\n",
       "       '07000-000', '36120-000', '13000-000', '36212-000', '36280-000',\n",
       "       '36200-000', '24800-000', '36880-000', '25600-000', '36420-000',\n",
       "       '36320-000', '36240-000', '36770-000', '25500-000', '36500-000',\n",
       "       '36710-000', '36123-000', '25900-000', '36108-000', None,\n",
       "       '36196-000', '36780-000', '36680-000', '30000-000', '36510-000',\n",
       "       '36415-000', '37370-000', '36330-000', '36700-000', '26100-000',\n",
       "       '36335-000', '36345-000', '20000-000', '26000-000', '36350-000',\n",
       "       '12200-000', '27200-000', '36140-000', '09000-000', '35400-000',\n",
       "       '36325-000', '23900-000'], dtype=object)"
      ]
     },
     "execution_count": 129,
     "metadata": {},
     "output_type": "execute_result"
    }
   ],
   "source": [
    "#df[\"marca\"].unique()\n",
    "#df[\"cep\"].unique()\n",
    "\n",
    "df[\"cep\"] = df[\"cep\"].apply(lambda x: x if pd.notnull(x) and len(x) == 9 and '-' in x else None)\n",
    "\n",
    "df[\"cep\"].unique()"
   ]
  },
  {
   "cell_type": "markdown",
   "metadata": {},
   "source": [
    "Antes de fazer o preenchimento do meu CEP pelo que mais se repete, preciso retirar os valores inválidos tipo simbolos, letras ou que tem mais/menos valores do que deveria.\n",
    "depois, usar os valores corretos pra preencher os incorretos\n",
    "\n"
   ]
  },
  {
   "cell_type": "code",
   "execution_count": 130,
   "metadata": {},
   "outputs": [],
   "source": [
    "df[\"cep\"] = df.groupby(\"cidade\")[\"cep\"].transform(lambda x: x.ffill().bfill())\n"
   ]
  },
  {
   "cell_type": "code",
   "execution_count": 131,
   "metadata": {},
   "outputs": [
    {
     "data": {
      "text/plain": [
       "array(['24000-000', '35420-000', '28900-000', '28000-000', '36400-000',\n",
       "       '36340-000', '01000-000', '36600-000', '36300-000', '24400-000',\n",
       "       '09700-000', '25000-000', '27900-000', '36570-000', '36000-000',\n",
       "       '07000-000', '36120-000', '13000-000', '36212-000', '36280-000',\n",
       "       '36200-000', '24800-000', '36880-000', '25600-000', '36420-000',\n",
       "       '36320-000', '36240-000', '36770-000', '25500-000', '36500-000',\n",
       "       '36710-000', '36123-000', '25900-000', '36108-000', '36196-000',\n",
       "       '36780-000', '36680-000', '30000-000', '36510-000', '36415-000',\n",
       "       '37370-000', '36330-000', '36700-000', '26100-000', '36335-000',\n",
       "       '36345-000', '20000-000', '26000-000', '36350-000', '12200-000',\n",
       "       '27200-000', '36140-000', '09000-000', '36325-000', '35400-000',\n",
       "       '23900-000'], dtype=object)"
      ]
     },
     "execution_count": 131,
     "metadata": {},
     "output_type": "execute_result"
    }
   ],
   "source": [
    "df['cep'].unique()"
   ]
  },
  {
   "cell_type": "code",
   "execution_count": 132,
   "metadata": {},
   "outputs": [
    {
     "data": {
      "text/plain": [
       "id_da_compra       0\n",
       "data               0\n",
       "hora               0\n",
       "cliente            0\n",
       "produto            0\n",
       "valor             83\n",
       "quantidade         0\n",
       "total           3685\n",
       "status             0\n",
       "cidade             0\n",
       "estado             0\n",
       "pais               0\n",
       "cep                0\n",
       "frete           7371\n",
       "pagamento          0\n",
       "vendedor        3680\n",
       "marca              0\n",
       "dtype: int64"
      ]
     },
     "execution_count": 132,
     "metadata": {},
     "output_type": "execute_result"
    }
   ],
   "source": [
    "\n",
    "df.isnull().sum()"
   ]
  },
  {
   "cell_type": "code",
   "execution_count": 133,
   "metadata": {},
   "outputs": [],
   "source": [
    "#código  pra salvar os dados em um novo arquivo\n",
    "\n",
    "#df.to_csv(r\"C:\\Users\\micae\\OneDrive\\Desktop\\Faculdade\\CD\\vendas_limpo.csv\", index=False, encoding=\"utf-8\")\n",
    "#print(\"Arquivo limpo salvo com sucesso!\")\n"
   ]
  },
  {
   "cell_type": "code",
   "execution_count": 134,
   "metadata": {},
   "outputs": [
    {
     "data": {
      "text/html": [
       "<div>\n",
       "<style scoped>\n",
       "    .dataframe tbody tr th:only-of-type {\n",
       "        vertical-align: middle;\n",
       "    }\n",
       "\n",
       "    .dataframe tbody tr th {\n",
       "        vertical-align: top;\n",
       "    }\n",
       "\n",
       "    .dataframe thead th {\n",
       "        text-align: right;\n",
       "    }\n",
       "</style>\n",
       "<table border=\"1\" class=\"dataframe\">\n",
       "  <thead>\n",
       "    <tr style=\"text-align: right;\">\n",
       "      <th></th>\n",
       "      <th>id_da_compra</th>\n",
       "      <th>data</th>\n",
       "      <th>hora</th>\n",
       "      <th>cliente</th>\n",
       "      <th>produto</th>\n",
       "      <th>valor</th>\n",
       "      <th>quantidade</th>\n",
       "      <th>total</th>\n",
       "      <th>status</th>\n",
       "      <th>cidade</th>\n",
       "      <th>estado</th>\n",
       "      <th>pais</th>\n",
       "      <th>cep</th>\n",
       "      <th>frete</th>\n",
       "      <th>pagamento</th>\n",
       "      <th>vendedor</th>\n",
       "      <th>marca</th>\n",
       "    </tr>\n",
       "  </thead>\n",
       "  <tbody>\n",
       "    <tr>\n",
       "      <th>4853</th>\n",
       "      <td>0</td>\n",
       "      <td>2019-07-07</td>\n",
       "      <td>1900-01-01 11:05:44</td>\n",
       "      <td>PEDRO SILVA RAMOS</td>\n",
       "      <td>Macarrão</td>\n",
       "      <td>2.63</td>\n",
       "      <td>14</td>\n",
       "      <td>46.82</td>\n",
       "      <td>Aguardando Pagamento</td>\n",
       "      <td>Ouro Branco</td>\n",
       "      <td>MG</td>\n",
       "      <td>Brasil</td>\n",
       "      <td>36420-000</td>\n",
       "      <td>10.0</td>\n",
       "      <td>Cartão de Crédito</td>\n",
       "      <td>VICTOR GONÇALVES DONADONI</td>\n",
       "      <td>Renata</td>\n",
       "    </tr>\n",
       "    <tr>\n",
       "      <th>143431</th>\n",
       "      <td>0</td>\n",
       "      <td>2019-07-07</td>\n",
       "      <td>1900-01-01 11:05:44</td>\n",
       "      <td>PEDRO SILVA RAMOS</td>\n",
       "      <td>Sabonete</td>\n",
       "      <td>2.40</td>\n",
       "      <td>15</td>\n",
       "      <td>46.00</td>\n",
       "      <td>Aguardando Pagamento</td>\n",
       "      <td>Ouro Branco</td>\n",
       "      <td>MG</td>\n",
       "      <td>Brasil</td>\n",
       "      <td>36420-000</td>\n",
       "      <td>10.0</td>\n",
       "      <td>Cartão de Crédito</td>\n",
       "      <td>VICTOR GONÇALVES DONADONI</td>\n",
       "      <td>Nivea</td>\n",
       "    </tr>\n",
       "    <tr>\n",
       "      <th>364791</th>\n",
       "      <td>0</td>\n",
       "      <td>2019-07-07</td>\n",
       "      <td>1900-01-01 11:05:44</td>\n",
       "      <td>PEDRO SILVA RAMOS</td>\n",
       "      <td>Pasta de Dente</td>\n",
       "      <td>2.98</td>\n",
       "      <td>9</td>\n",
       "      <td>36.82</td>\n",
       "      <td>Aguardando Pagamento</td>\n",
       "      <td>Ouro Branco</td>\n",
       "      <td>MG</td>\n",
       "      <td>Brasil</td>\n",
       "      <td>36420-000</td>\n",
       "      <td>10.0</td>\n",
       "      <td>Cartão de Crédito</td>\n",
       "      <td>VICTOR GONÇALVES DONADONI</td>\n",
       "      <td>Colgate</td>\n",
       "    </tr>\n",
       "    <tr>\n",
       "      <th>119876</th>\n",
       "      <td>0</td>\n",
       "      <td>2019-07-07</td>\n",
       "      <td>1900-01-01 11:05:44</td>\n",
       "      <td>PEDRO SILVA RAMOS</td>\n",
       "      <td>Sabonete</td>\n",
       "      <td>288.20</td>\n",
       "      <td>7</td>\n",
       "      <td>25.40</td>\n",
       "      <td>Aguardando Pagamento</td>\n",
       "      <td>Ouro Branco</td>\n",
       "      <td>MG</td>\n",
       "      <td>Brasil</td>\n",
       "      <td>36420-000</td>\n",
       "      <td>10.0</td>\n",
       "      <td>Cartão de Crédito</td>\n",
       "      <td>VICTOR GONÇALVES DONADONI</td>\n",
       "      <td>Lux</td>\n",
       "    </tr>\n",
       "  </tbody>\n",
       "</table>\n",
       "</div>"
      ],
      "text/plain": [
       "        id_da_compra       data                hora            cliente  \\\n",
       "4853               0 2019-07-07 1900-01-01 11:05:44  PEDRO SILVA RAMOS   \n",
       "143431             0 2019-07-07 1900-01-01 11:05:44  PEDRO SILVA RAMOS   \n",
       "364791             0 2019-07-07 1900-01-01 11:05:44  PEDRO SILVA RAMOS   \n",
       "119876             0 2019-07-07 1900-01-01 11:05:44  PEDRO SILVA RAMOS   \n",
       "\n",
       "               produto   valor  quantidade  total                status  \\\n",
       "4853          Macarrão    2.63          14  46.82  Aguardando Pagamento   \n",
       "143431        Sabonete    2.40          15  46.00  Aguardando Pagamento   \n",
       "364791  Pasta de Dente    2.98           9  36.82  Aguardando Pagamento   \n",
       "119876        Sabonete  288.20           7  25.40  Aguardando Pagamento   \n",
       "\n",
       "             cidade estado    pais        cep  frete          pagamento  \\\n",
       "4853    Ouro Branco     MG  Brasil  36420-000   10.0  Cartão de Crédito   \n",
       "143431  Ouro Branco     MG  Brasil  36420-000   10.0  Cartão de Crédito   \n",
       "364791  Ouro Branco     MG  Brasil  36420-000   10.0  Cartão de Crédito   \n",
       "119876  Ouro Branco     MG  Brasil  36420-000   10.0  Cartão de Crédito   \n",
       "\n",
       "                         vendedor    marca  \n",
       "4853    VICTOR GONÇALVES DONADONI   Renata  \n",
       "143431  VICTOR GONÇALVES DONADONI    Nivea  \n",
       "364791  VICTOR GONÇALVES DONADONI  Colgate  \n",
       "119876  VICTOR GONÇALVES DONADONI      Lux  "
      ]
     },
     "metadata": {},
     "output_type": "display_data"
    }
   ],
   "source": [
    "df = df.sort_values(by=\"id_da_compra\")\n",
    "display(df.head(4))"
   ]
  },
  {
   "cell_type": "code",
   "execution_count": 139,
   "metadata": {},
   "outputs": [
    {
     "name": "stdout",
     "output_type": "stream",
     "text": [
      "6260\n"
     ]
    }
   ],
   "source": [
    "print(df.duplicated().sum())\n",
    "\n"
   ]
  }
 ],
 "metadata": {
  "kernelspec": {
   "display_name": "Python 3",
   "language": "python",
   "name": "python3"
  },
  "language_info": {
   "codemirror_mode": {
    "name": "ipython",
    "version": 3
   },
   "file_extension": ".py",
   "mimetype": "text/x-python",
   "name": "python",
   "nbconvert_exporter": "python",
   "pygments_lexer": "ipython3",
   "version": "3.13.2"
  }
 },
 "nbformat": 4,
 "nbformat_minor": 2
}
